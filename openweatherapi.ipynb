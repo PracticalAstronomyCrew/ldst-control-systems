{
 "metadata": {
  "language_info": {
   "codemirror_mode": {
    "name": "ipython",
    "version": 3
   },
   "file_extension": ".py",
   "mimetype": "text/x-python",
   "name": "python",
   "nbconvert_exporter": "python",
   "pygments_lexer": "ipython3",
   "version": "3.8.8"
  },
  "orig_nbformat": 4,
  "kernelspec": {
   "name": "python3",
   "display_name": "Python 3.8.8 64-bit ('base': conda)"
  },
  "interpreter": {
   "hash": "64ad0ea8d629f00d8168fc91b44a5de2d94c414bf842e4bc86698867624ffac1"
  }
 },
 "nbformat": 4,
 "nbformat_minor": 2,
 "cells": [
  {
   "cell_type": "code",
   "execution_count": 3,
   "metadata": {},
   "outputs": [],
   "source": [
    "import configparser\n",
    "import datetime as dt\n",
    "import requests\n",
    "import sys"
   ]
  },
  {
   "source": [
    "The Below does not return seeing so can use\n",
    "\n",
    "https://www.astro.auth.gr/~seeing-gr/seeing_gr_files/theory/node16.html"
   ],
   "cell_type": "markdown",
   "metadata": {}
  },
  {
   "cell_type": "code",
   "execution_count": 4,
   "metadata": {},
   "outputs": [],
   "source": [
    "def get_api_key():\n",
    "    config = configparser.ConfigParser()\n",
    "    config.read('config.ini')\n",
    "    return config['openweathermap']['api']\n",
    " \n",
    "def get_weather(api_key, location):\n",
    "    \"\"\"cnt = number of timestamps to return\n",
    "    maybe need units=metric, but standard output in K so other units as well?\n",
    "        https://openweathermap.org/api/hourly-forecast#limit\n",
    "    \"\"\"\n",
    "    #url = \"http://api.openweathermap.org/data/2.5/forecast/hourly?lat={}&lon={}&appid={}\".format(*location, api_key)\n",
    "    url= \"http://api.openweathermap.org/data/2.5/onecall?lat={}&lon={}&exclude=[current,minutely,alerts]&appid={}\".format(*location, api_key)\n",
    "    r = requests.get(url)\n",
    "    return r.json()\n",
    " \n",
    "def main():\n",
    "    \"\"\"If the expected value is not returned it was not computed/won't happen\"\"\"\n",
    "    location = (53.38,6.23)\n",
    "    api_key = get_api_key()\n",
    "    api_key='52695aff81b7b6e5708ab0e924b859f2'\n",
    "    weather = get_weather(api_key, location)\n",
    "\n",
    "    return weather"
   ]
  },
  {
   "cell_type": "code",
   "execution_count": 5,
   "metadata": {},
   "outputs": [
    {
     "output_type": "stream",
     "name": "stdout",
     "text": [
      "lat\nlon\ntimezone\ntimezone_offset\ncurrent\nhourly\ndaily\n"
     ]
    }
   ],
   "source": [
    "weather = main()\n",
    "for key in weather:\n",
    "    print(key)"
   ]
  },
  {
   "cell_type": "code",
   "execution_count": 6,
   "metadata": {},
   "outputs": [
    {
     "output_type": "stream",
     "name": "stdout",
     "text": [
      "{'Temperature': [293.08, 292.7, 292.34, 291.8, 291.31, 291.07, 290.82, 290.46, 290.33, 289.62, 288.81, 288.53, 288.38, 288.27, 288.21, 288.29, 288.09, 288, 287.95, 287.99, 288.01, 288.29, 289.15, 290.26, 290.59, 290.86, 291.21, 291.03, 291.13, 290.61, 290.12, 289.91, 289.59, 289.51, 289.37, 289.07, 288.78, 288.42, 288.3, 287.98, 288.01, 287.96, 287.57, 288.15, 288.85, 289.51, 290.23, 291.15], 'Pressure': [1017, 1017, 1017, 1016, 1016, 1016, 1015, 1015, 1015, 1015, 1016, 1015, 1016, 1016, 1015, 1015, 1015, 1015, 1015, 1016, 1016, 1016, 1016, 1016, 1016, 1016, 1016, 1015, 1015, 1015, 1015, 1015, 1014, 1014, 1015, 1015, 1014, 1014, 1014, 1014, 1013, 1013, 1013, 1012, 1013, 1012, 1012, 1012], 'Humidity': [75, 74, 74, 76, 78, 78, 80, 82, 82, 84, 87, 88, 90, 90, 90, 90, 92, 93, 93, 94, 94, 92, 90, 88, 88, 87, 87, 88, 88, 91, 93, 93, 94, 94, 93, 92, 92, 90, 89, 88, 88, 89, 91, 91, 89, 88, 85, 80], 'Dew_Point': [288.52, 287.95, 287.6, 287.49, 287.42, 287.14, 287.38, 287.34, 287.29, 286.98, 286.65, 286.59, 286.62, 286.63, 286.64, 286.73, 286.77, 286.78, 286.81, 287.01, 287.06, 286.96, 287.49, 288.24, 288.59, 288.72, 288.93, 288.98, 289.08, 289.12, 289.02, 288.78, 288.63, 288.43, 288.18, 287.74, 287.44, 286.83, 286.51, 286.05, 286.01, 286.1, 286.09, 286.61, 287.15, 287.44, 287.66, 287.71], 'Cloud_cover': [68, 68, 70, 87, 94, 97, 93, 90, 92, 78, 86, 85, 69, 65, 69, 96, 98, 99, 99, 99, 99, 100, 100, 99, 98, 99, 99, 100, 100, 100, 100, 100, 100, 100, 100, 100, 100, 100, 100, 100, 100, 100, 83, 75, 73, 100, 100, 100], 'Visibility': [10000, 10000, 10000, 10000, 10000, 10000, 10000, 10000, 10000, 10000, 10000, 10000, 10000, 10000, 10000, 10000, 10000, 10000, 10000, 10000, 10000, 10000, 10000, 10000, 10000, 10000, 10000, 10000, 10000, 10000, 10000, 10000, 10000, 10000, 10000, 10000, 10000, 10000, 10000, 10000, 10000, 10000, 10000, 10000, 10000, 10000, 10000, 10000], 'Wind_Speed': [1.96, 2.02, 2.15, 2.89, 3.3, 3.15, 3.57, 3.58, 4.01, 3.69, 3.95, 4.34, 4.12, 3.86, 3.43, 2.86, 3.14, 3, 2.97, 3.35, 3.27, 3.25, 3.2, 2.34, 0.56, 1.21, 2.08, 3.1, 2.73, 1.93, 1.39, 1.99, 2.11, 2.2, 2.5, 2.56, 2.94, 2.75, 2.74, 3.45, 2.94, 2.96, 3.32, 2.23, 2.59, 1.62, 1.68, 1.12], 'Wind_direction': [308, 338, 359, 18, 36, 40, 41, 49, 51, 55, 61, 69, 81, 92, 95, 93, 92, 92, 88, 92, 90, 85, 101, 123, 104, 34, 34, 49, 70, 63, 18, 325, 326, 304, 284, 268, 256, 249, 236, 234, 220, 212, 214, 184, 204, 198, 174, 147], 'Time': [datetime.datetime(2021, 7, 10, 10, 0), datetime.datetime(2021, 7, 10, 11, 0), datetime.datetime(2021, 7, 10, 12, 0), datetime.datetime(2021, 7, 10, 13, 0), datetime.datetime(2021, 7, 10, 14, 0), datetime.datetime(2021, 7, 10, 15, 0), datetime.datetime(2021, 7, 10, 16, 0), datetime.datetime(2021, 7, 10, 17, 0), datetime.datetime(2021, 7, 10, 18, 0), datetime.datetime(2021, 7, 10, 19, 0), datetime.datetime(2021, 7, 10, 20, 0), datetime.datetime(2021, 7, 10, 21, 0), datetime.datetime(2021, 7, 10, 22, 0), datetime.datetime(2021, 7, 10, 23, 0), datetime.datetime(2021, 7, 11, 0, 0), datetime.datetime(2021, 7, 11, 1, 0), datetime.datetime(2021, 7, 11, 2, 0), datetime.datetime(2021, 7, 11, 3, 0), datetime.datetime(2021, 7, 11, 4, 0), datetime.datetime(2021, 7, 11, 5, 0), datetime.datetime(2021, 7, 11, 6, 0), datetime.datetime(2021, 7, 11, 7, 0), datetime.datetime(2021, 7, 11, 8, 0), datetime.datetime(2021, 7, 11, 9, 0), datetime.datetime(2021, 7, 11, 10, 0), datetime.datetime(2021, 7, 11, 11, 0), datetime.datetime(2021, 7, 11, 12, 0), datetime.datetime(2021, 7, 11, 13, 0), datetime.datetime(2021, 7, 11, 14, 0), datetime.datetime(2021, 7, 11, 15, 0), datetime.datetime(2021, 7, 11, 16, 0), datetime.datetime(2021, 7, 11, 17, 0), datetime.datetime(2021, 7, 11, 18, 0), datetime.datetime(2021, 7, 11, 19, 0), datetime.datetime(2021, 7, 11, 20, 0), datetime.datetime(2021, 7, 11, 21, 0), datetime.datetime(2021, 7, 11, 22, 0), datetime.datetime(2021, 7, 11, 23, 0), datetime.datetime(2021, 7, 12, 0, 0), datetime.datetime(2021, 7, 12, 1, 0), datetime.datetime(2021, 7, 12, 2, 0), datetime.datetime(2021, 7, 12, 3, 0), datetime.datetime(2021, 7, 12, 4, 0), datetime.datetime(2021, 7, 12, 5, 0), datetime.datetime(2021, 7, 12, 6, 0), datetime.datetime(2021, 7, 12, 7, 0), datetime.datetime(2021, 7, 12, 8, 0), datetime.datetime(2021, 7, 12, 9, 0)], 'Moon': 0, 'Sunset': datetime.datetime(2021, 7, 10, 20, 0, 49), 'Sunrise': datetime.datetime(2021, 7, 11, 3, 20, 49)}\n"
     ]
    }
   ],
   "source": [
    "keys = ['Temperature', 'Pressure', 'Humidity', 'Dew_Point', 'Cloud_cover', 'Visibility', 'Wind_Speed','Wind_direction']\n",
    "key_return = ['temp','pressure','humidity','dew_point','clouds','visibility','wind_speed','wind_deg']\n",
    "weather_cond = {keys[i]:[weather['hourly'][j][key_return[i]] for j in range(len(weather['hourly']))] for i in range(len(keys))}\n",
    "weather_cond['Time']=[dt.datetime.utcfromtimestamp(i['dt']) for i in weather['hourly']]\n",
    "weather_cond['Moon']=weather['daily'][0]['moon_phase']\n",
    "weather_cond['Sunset']=dt.datetime.utcfromtimestamp(weather['daily'][0]['sunset'])\n",
    "weather_cond['Sunrise']=dt.datetime.utcfromtimestamp(weather['daily'][1]['sunrise'])\n",
    "\n",
    "print(weather_cond)"
   ]
  },
  {
   "cell_type": "code",
   "execution_count": 7,
   "metadata": {},
   "outputs": [],
   "source": []
  },
  {
   "cell_type": "code",
   "execution_count": 8,
   "metadata": {},
   "outputs": [
    {
     "output_type": "stream",
     "name": "stdout",
     "text": [
      "{datetime.datetime(2021, 7, 11, 3, 30, 49): 0, datetime.datetime(2021, 7, 11, 3, 40, 49): 0, datetime.datetime(2021, 7, 11, 3, 50, 49): 0, datetime.datetime(2021, 7, 11, 4, 0, 49): 0, datetime.datetime(2021, 7, 11, 4, 10, 49): 0, datetime.datetime(2021, 7, 11, 4, 20, 49): 0, datetime.datetime(2021, 7, 11, 4, 30, 49): 0, datetime.datetime(2021, 7, 11, 4, 40, 49): 0, datetime.datetime(2021, 7, 11, 4, 50, 49): 0, datetime.datetime(2021, 7, 11, 5, 0, 49): 0, datetime.datetime(2021, 7, 11, 5, 10, 49): 0, datetime.datetime(2021, 7, 11, 5, 20, 49): 0, datetime.datetime(2021, 7, 11, 5, 30, 49): 0, datetime.datetime(2021, 7, 11, 5, 40, 49): 0, datetime.datetime(2021, 7, 11, 5, 50, 49): 0, datetime.datetime(2021, 7, 11, 6, 0, 49): 0, datetime.datetime(2021, 7, 11, 6, 10, 49): 0, datetime.datetime(2021, 7, 11, 6, 20, 49): 0, datetime.datetime(2021, 7, 11, 6, 30, 49): 0, datetime.datetime(2021, 7, 11, 6, 40, 49): 0, datetime.datetime(2021, 7, 11, 6, 50, 49): 0, datetime.datetime(2021, 7, 11, 7, 0, 49): 0, datetime.datetime(2021, 7, 11, 7, 10, 49): 0, datetime.datetime(2021, 7, 11, 7, 20, 49): 0, datetime.datetime(2021, 7, 11, 7, 30, 49): 0, datetime.datetime(2021, 7, 11, 7, 40, 49): 0, datetime.datetime(2021, 7, 11, 7, 50, 49): 0, datetime.datetime(2021, 7, 11, 8, 0, 49): 0, datetime.datetime(2021, 7, 11, 8, 10, 49): 0, datetime.datetime(2021, 7, 11, 8, 20, 49): 0, datetime.datetime(2021, 7, 11, 8, 30, 49): 0, datetime.datetime(2021, 7, 11, 8, 40, 49): 0, datetime.datetime(2021, 7, 11, 8, 50, 49): 0, datetime.datetime(2021, 7, 11, 9, 0, 49): 0, datetime.datetime(2021, 7, 11, 9, 10, 49): 0, datetime.datetime(2021, 7, 11, 9, 20, 49): 0, datetime.datetime(2021, 7, 11, 9, 30, 49): 0, datetime.datetime(2021, 7, 11, 9, 40, 49): 0, datetime.datetime(2021, 7, 11, 9, 50, 49): 0}\n"
     ]
    }
   ],
   "source": [
    "print(available)"
   ]
  },
  {
   "cell_type": "code",
   "execution_count": null,
   "metadata": {},
   "outputs": [],
   "source": []
  }
 ]
}