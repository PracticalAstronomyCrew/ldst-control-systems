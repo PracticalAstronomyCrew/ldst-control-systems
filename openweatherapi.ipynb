{
 "metadata": {
  "language_info": {
   "codemirror_mode": {
    "name": "ipython",
    "version": 3
   },
   "file_extension": ".py",
   "mimetype": "text/x-python",
   "name": "python",
   "nbconvert_exporter": "python",
   "pygments_lexer": "ipython3",
   "version": "3.8.8"
  },
  "orig_nbformat": 4,
  "kernelspec": {
   "name": "python3",
   "display_name": "Python 3.8.8 64-bit ('base': conda)"
  },
  "interpreter": {
   "hash": "64ad0ea8d629f00d8168fc91b44a5de2d94c414bf842e4bc86698867624ffac1"
  }
 },
 "nbformat": 4,
 "nbformat_minor": 2,
 "cells": [
  {
   "cell_type": "code",
   "execution_count": 30,
   "metadata": {},
   "outputs": [],
   "source": [
    "import configparser\n",
    "import datetime as dt\n",
    "import requests\n",
    "import sys"
   ]
  },
  {
   "source": [
    "The Below does not return seeing so can use\n",
    "\n",
    "https://www.astro.auth.gr/~seeing-gr/seeing_gr_files/theory/node16.html"
   ],
   "cell_type": "markdown",
   "metadata": {}
  },
  {
   "cell_type": "code",
   "execution_count": 48,
   "metadata": {},
   "outputs": [],
   "source": [
    "def get_api_key():\n",
    "    config = configparser.ConfigParser()\n",
    "    config.read('config.ini')\n",
    "    return config['openweathermap']['api']\n",
    " \n",
    "def get_weather(api_key, location):\n",
    "    \"\"\"cnt = number of timestamps to return\n",
    "    maybe need units=metric, but standard output in K so other units as well?\n",
    "        https://openweathermap.org/api/hourly-forecast#limit\n",
    "    \"\"\"\n",
    "    #url = \"http://api.openweathermap.org/data/2.5/forecast/hourly?lat={}&lon={}&appid={}\".format(*location, api_key)\n",
    "    url= \"http://api.openweathermap.org/data/2.5/onecall?lat={}&lon={}&exclude=[current,minutely,alerts]&appid={}\".format(*location, api_key)\n",
    "    r = requests.get(url)\n",
    "    return r.json()\n",
    " \n",
    "def main():\n",
    "    \"\"\"If the expected value is not returned it was not computed/won't happen\"\"\"\n",
    "    location = (53.38,6.23)\n",
    "    api_key = get_api_key()\n",
    "    api_key='52695aff81b7b6e5708ab0e924b859f2'\n",
    "    weather = get_weather(api_key, location)\n",
    "\n",
    "    return weather"
   ]
  },
  {
   "cell_type": "code",
   "execution_count": 49,
   "metadata": {},
   "outputs": [
    {
     "output_type": "stream",
     "name": "stdout",
     "text": [
      "lat\nlon\ntimezone\ntimezone_offset\ncurrent\nhourly\ndaily\n"
     ]
    }
   ],
   "source": [
    "weather = main()\n",
    "for key in weather:\n",
    "    print(key)"
   ]
  },
  {
   "cell_type": "code",
   "execution_count": 64,
   "metadata": {},
   "outputs": [
    {
     "output_type": "stream",
     "name": "stdout",
     "text": [
      "{'Temperature': [293.96, 293.39, 292.96, 292.29, 291.88, 291.12, 290.61, 289.75, 288.89, 288.62, 288.49, 287.98, 287.6, 287.53, 287.38, 287.32, 287.31, 287.88, 288.84, 289.89, 290.82, 291.65, 292.31, 292.63, 292.79, 292.83, 292.46, 292.19, 292.03, 291.49, 291.05, 290.24, 289.47, 289.3, 289.32, 289.3, 289, 288.69, 288.52, 288.45, 288.57, 289.28, 289.94, 290.65, 291.44, 292.07, 292.39, 292.69], 'Pressure': [1014, 1014, 1014, 1015, 1016, 1016, 1016, 1017, 1017, 1018, 1018, 1019, 1019, 1019, 1019, 1019, 1019, 1019, 1020, 1020, 1020, 1021, 1020, 1020, 1020, 1020, 1020, 1020, 1020, 1020, 1020, 1021, 1021, 1021, 1021, 1021, 1021, 1021, 1021, 1021, 1021, 1021, 1021, 1021, 1021, 1021, 1021, 1021], 'Humidity': [69, 72, 73, 75, 74, 74, 74, 77, 79, 80, 81, 84, 87, 90, 91, 91, 91, 89, 84, 79, 76, 74, 72, 70, 69, 68, 70, 71, 72, 75, 79, 82, 84, 84, 83, 84, 85, 85, 85, 85, 85, 84, 81, 78, 75, 73, 72, 72], 'Dew_Point': [288.07, 288.18, 287.98, 287.76, 287.15, 286.41, 286.01, 285.75, 285.29, 285.2, 285.21, 285.22, 285.49, 285.88, 285.99, 285.9, 285.84, 286.02, 286.2, 286.3, 286.57, 286.88, 287.07, 287.01, 286.84, 286.59, 286.77, 286.81, 286.98, 286.99, 287.21, 287.1, 286.69, 286.53, 286.44, 286.5, 286.47, 286.13, 285.93, 285.86, 285.93, 286.48, 286.66, 286.84, 286.91, 287.1, 287.25, 287.42], 'Cloud_cover': [17, 34, 43, 50, 48, 54, 50, 100, 100, 100, 100, 100, 98, 96, 67, 65, 52, 44, 37, 0, 0, 0, 0, 2, 2, 33, 43, 43, 36, 36, 47, 100, 100, 100, 100, 100, 100, 81, 61, 72, 79, 83, 85, 23, 15, 13, 11, 10], 'Visibility': [10000, 10000, 10000, 10000, 10000, 10000, 10000, 10000, 10000, 10000, 10000, 10000, 10000, 10000, 10000, 10000, 10000, 10000, 10000, 10000, 10000, 10000, 10000, 10000, 10000, 10000, 10000, 10000, 10000, 10000, 10000, 10000, 10000, 10000, 10000, 10000, 10000, 10000, 10000, 10000, 10000, 10000, 10000, 10000, 10000, 10000, 10000, 10000], 'Wind_Speed': [7.08, 5.64, 6.06, 5.67, 5.27, 4.79, 3.47, 2.52, 1.57, 1.68, 2.61, 3.01, 3.29, 3.57, 3.57, 3.66, 3.56, 3.24, 3.21, 3.52, 3.43, 3.03, 2.58, 2.24, 2.53, 3.21, 3.12, 3.11, 3.28, 3.12, 2.83, 2.76, 2.67, 2.05, 1.83, 1.52, 0.91, 0.77, 0.34, 0.19, 0.6, 0.37, 0.76, 0.7, 0.75, 0.84, 1.2, 1.44], 'Wind_direction': [220, 233, 251, 261, 255, 259, 254, 255, 236, 193, 174, 162, 156, 158, 166, 175, 183, 196, 202, 201, 214, 212, 235, 258, 280, 297, 321, 330, 353, 4, 16, 41, 56, 76, 100, 99, 96, 98, 140, 69, 127, 131, 115, 97, 81, 50, 34, 6], 'Time': [datetime.datetime(2021, 7, 7, 12, 0), datetime.datetime(2021, 7, 7, 13, 0), datetime.datetime(2021, 7, 7, 14, 0), datetime.datetime(2021, 7, 7, 15, 0), datetime.datetime(2021, 7, 7, 16, 0), datetime.datetime(2021, 7, 7, 17, 0), datetime.datetime(2021, 7, 7, 18, 0), datetime.datetime(2021, 7, 7, 19, 0), datetime.datetime(2021, 7, 7, 20, 0), datetime.datetime(2021, 7, 7, 21, 0), datetime.datetime(2021, 7, 7, 22, 0), datetime.datetime(2021, 7, 7, 23, 0), datetime.datetime(2021, 7, 8, 0, 0), datetime.datetime(2021, 7, 8, 1, 0), datetime.datetime(2021, 7, 8, 2, 0), datetime.datetime(2021, 7, 8, 3, 0), datetime.datetime(2021, 7, 8, 4, 0), datetime.datetime(2021, 7, 8, 5, 0), datetime.datetime(2021, 7, 8, 6, 0), datetime.datetime(2021, 7, 8, 7, 0), datetime.datetime(2021, 7, 8, 8, 0), datetime.datetime(2021, 7, 8, 9, 0), datetime.datetime(2021, 7, 8, 10, 0), datetime.datetime(2021, 7, 8, 11, 0), datetime.datetime(2021, 7, 8, 12, 0), datetime.datetime(2021, 7, 8, 13, 0), datetime.datetime(2021, 7, 8, 14, 0), datetime.datetime(2021, 7, 8, 15, 0), datetime.datetime(2021, 7, 8, 16, 0), datetime.datetime(2021, 7, 8, 17, 0), datetime.datetime(2021, 7, 8, 18, 0), datetime.datetime(2021, 7, 8, 19, 0), datetime.datetime(2021, 7, 8, 20, 0), datetime.datetime(2021, 7, 8, 21, 0), datetime.datetime(2021, 7, 8, 22, 0), datetime.datetime(2021, 7, 8, 23, 0), datetime.datetime(2021, 7, 9, 0, 0), datetime.datetime(2021, 7, 9, 1, 0), datetime.datetime(2021, 7, 9, 2, 0), datetime.datetime(2021, 7, 9, 3, 0), datetime.datetime(2021, 7, 9, 4, 0), datetime.datetime(2021, 7, 9, 5, 0), datetime.datetime(2021, 7, 9, 6, 0), datetime.datetime(2021, 7, 9, 7, 0), datetime.datetime(2021, 7, 9, 8, 0), datetime.datetime(2021, 7, 9, 9, 0), datetime.datetime(2021, 7, 9, 10, 0), datetime.datetime(2021, 7, 9, 11, 0)], 'Moon': 0.92, 'Sunset': datetime.datetime(2021, 7, 7, 20, 3, 8), 'Sunrise': datetime.datetime(2021, 7, 8, 3, 17, 30)}\n"
     ]
    }
   ],
   "source": [
    "keys = ['Temperature', 'Pressure', 'Humidity', 'Dew_Point', 'Cloud_cover', 'Visibility', 'Wind_Speed','Wind_direction']\n",
    "key_return = ['temp','pressure','humidity','dew_point','clouds','visibility','wind_speed','wind_deg']\n",
    "weather_cond = {keys[i]:[weather['hourly'][j][key_return[i]] for j in range(len(weather['hourly']))] for i in range(len(keys))}\n",
    "weather_cond['Time']=[dt.datetime.utcfromtimestamp(i['dt']) for i in weather['hourly']]\n",
    "weather_cond['Moon']=weather['daily'][0]['moon_phase']\n",
    "weather_cond['Sunset']=dt.datetime.utcfromtimestamp(weather['daily'][0]['sunset'])\n",
    "weather_cond['Sunrise']=dt.datetime.utcfromtimestamp(weather['daily'][1]['sunrise'])\n",
    "\n",
    "print(weather_cond)"
   ]
  },
  {
   "cell_type": "code",
   "execution_count": 63,
   "metadata": {},
   "outputs": [
    {
     "output_type": "stream",
     "name": "stdout",
     "text": [
      "{'dt': 1625670000, 'temp': 292.29, 'feels_like': 292.22, 'pressure': 1015, 'humidity': 75, 'dew_point': 287.76, 'uvi': 2.89, 'clouds': 50, 'visibility': 10000, 'wind_speed': 5.67, 'wind_deg': 261, 'wind_gust': 6.93, 'weather': [{'id': 500, 'main': 'Rain', 'description': 'light rain', 'icon': '10d'}], 'pop': 0.74, 'rain': {'1h': 0.26}}\n"
     ]
    }
   ],
   "source": []
  },
  {
   "cell_type": "code",
   "execution_count": 55,
   "metadata": {},
   "outputs": [
    {
     "output_type": "execute_result",
     "data": {
      "text/plain": [
       "datetime.datetime(2021, 7, 7, 20, 3, 8)"
      ]
     },
     "metadata": {},
     "execution_count": 55
    }
   ],
   "source": []
  },
  {
   "cell_type": "code",
   "execution_count": 56,
   "metadata": {},
   "outputs": [
    {
     "output_type": "execute_result",
     "data": {
      "text/plain": [
       "datetime.datetime(2021, 7, 8, 3, 17, 30)"
      ]
     },
     "metadata": {},
     "execution_count": 56
    }
   ],
   "source": []
  },
  {
   "cell_type": "code",
   "execution_count": null,
   "metadata": {},
   "outputs": [],
   "source": []
  }
 ]
}