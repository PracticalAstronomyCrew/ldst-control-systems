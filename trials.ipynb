{
 "metadata": {
  "language_info": {
   "codemirror_mode": {
    "name": "ipython",
    "version": 3
   },
   "file_extension": ".py",
   "mimetype": "text/x-python",
   "name": "python",
   "nbconvert_exporter": "python",
   "pygments_lexer": "ipython3",
   "version": "3.8.8"
  },
  "orig_nbformat": 4,
  "kernelspec": {
   "name": "python3",
   "display_name": "Python 3.8.8 64-bit ('base': conda)"
  },
  "interpreter": {
   "hash": "64ad0ea8d629f00d8168fc91b44a5de2d94c414bf842e4bc86698867624ffac1"
  }
 },
 "nbformat": 4,
 "nbformat_minor": 2,
 "cells": [
  {
   "cell_type": "code",
   "execution_count": 26,
   "metadata": {},
   "outputs": [],
   "source": [
    "from astropy.coordinates import EarthLocation, SkyCoord, get_sun, AltAz \n",
    "from astropy import time\n",
    "m1 = SkyCoord.from_name('M1')\n",
    "\n",
    "#dir() to see attributes"
   ]
  },
  {
   "cell_type": "code",
   "execution_count": 27,
   "metadata": {},
   "outputs": [
    {
     "output_type": "stream",
     "name": "stdout",
     "text": [
      "<ICRS Coordinate: (ra, dec) in deg\n    (83.63308333, 22.0145)>\n"
     ]
    }
   ],
   "source": [
    "print(m1.frame)"
   ]
  },
  {
   "cell_type": "code",
   "execution_count": 40,
   "metadata": {},
   "outputs": [],
   "source": [
    "sun = get_sun(time.Time.now()).transform_to(AltAz(location=EarthLocation(53.3845258962902, 6.23475766593151)))"
   ]
  },
  {
   "source": [
    "print(sun)"
   ],
   "cell_type": "code",
   "metadata": {},
   "execution_count": 41,
   "outputs": [
    {
     "output_type": "stream",
     "name": "stdout",
     "text": [
      "<SkyCoord (AltAz: obstime=2021-07-03 11:55:19.431283, location=(3781835.25203023, 5089373.33486723, 688071.22792422) m, pressure=0.0 hPa, temperature=0.0 deg_C, relative_humidity=0.0, obswl=1.0 micron): (az, alt, distance) in (deg, deg, m)\n    (294.33058188, 38.0766797, 1.52094142e+11)>\n"
     ]
    }
   ]
  },
  {
   "cell_type": "code",
   "execution_count": 39,
   "metadata": {},
   "outputs": [
    {
     "output_type": "execute_result",
     "data": {
      "text/plain": [
       "39.023916642671054"
      ]
     },
     "metadata": {},
     "execution_count": 39
    }
   ],
   "source": [
    "sun.alt.deg"
   ]
  },
  {
   "cell_type": "code",
   "execution_count": 22,
   "metadata": {},
   "outputs": [],
   "source": [
    "import sqlite3\n",
    "import datetime as dt\n",
    "con = sqlite3.connect('Database.db')"
   ]
  },
  {
   "cell_type": "code",
   "execution_count": 23,
   "metadata": {},
   "outputs": [],
   "source": [
    "cur = con.cursor()"
   ]
  },
  {
   "cell_type": "code",
   "execution_count": 3,
   "metadata": {},
   "outputs": [
    {
     "output_type": "execute_result",
     "data": {
      "text/plain": [
       "<sqlite3.Cursor at 0x7fd6d00b3260>"
      ]
     },
     "metadata": {},
     "execution_count": 3
    }
   ],
   "source": [
    "cur.execute(\"\"\"CREATE TABLE Schedule\n",
    "            (object, time_sensitive, Observer_type, Rarity, total_length, Submission_Date)\"\"\")"
   ]
  },
  {
   "cell_type": "code",
   "execution_count": 18,
   "metadata": {},
   "outputs": [
    {
     "output_type": "execute_result",
     "data": {
      "text/plain": [
       "<sqlite3.Cursor at 0x7f7a2dc679d0>"
      ]
     },
     "metadata": {},
     "execution_count": 18
    }
   ],
   "source": [
    "\n",
    "cur.execute(\"\"\"INSERT INTO Schedule VALUES\n",
    "                ('{}', '{}', '{}', '{}')\"\"\".format(dt.datetime.now()))"
   ]
  },
  {
   "cell_type": "code",
   "execution_count": 11,
   "metadata": {},
   "outputs": [
    {
     "output_type": "execute_result",
     "data": {
      "text/plain": [
       "<sqlite3.Cursor at 0x7f7a2dc679d0>"
      ]
     },
     "metadata": {},
     "execution_count": 11
    }
   ],
   "source": [
    "cur.execute(\"\"\"DROP TABLE observatory_status\"\"\")"
   ]
  },
  {
   "cell_type": "code",
   "execution_count": 24,
   "metadata": {},
   "outputs": [
    {
     "output_type": "execute_result",
     "data": {
      "text/plain": [
       "['observatory_status', 'Schedule']"
      ]
     },
     "metadata": {},
     "execution_count": 24
    }
   ],
   "source": [
    "def tables_in_sqlite_db(conn):\n",
    "    cursor = conn.execute(\"SELECT name FROM sqlite_master WHERE type='table';\")\n",
    "    tables = [\n",
    "        v[0] for v in cursor.fetchall()\n",
    "        if v[0] != \"sqlite_sequence\"\n",
    "    ]\n",
    "    cursor.close()\n",
    "    return tables\n",
    "tables_in_sqlite_db(con)"
   ]
  },
  {
   "cell_type": "code",
   "execution_count": 2,
   "metadata": {},
   "outputs": [
    {
     "output_type": "stream",
     "name": "stdout",
     "text": [
      "INSERT INTO Schedule(object, time_sensitive, Observer_type, Rarity, total_length, Submission_Date) VALUES('M1', 'Yes', 'moderator', '2', '3600', '2012');\n"
     ]
    },
    {
     "output_type": "execute_result",
     "data": {
      "text/plain": [
       "0"
      ]
     },
     "metadata": {},
     "execution_count": 2
    }
   ],
   "source": [
    "from Helper_funcs import sqlite_add_to_table\n",
    "import sqlite3\n",
    "connect = sqlite3.connect('Database.db')\n",
    "sqlite_add_to_table(connect, 'Schedule', ['M1', 'Yes','moderator', 2, 3600, 2012])"
   ]
  },
  {
   "cell_type": "code",
   "execution_count": 31,
   "metadata": {},
   "outputs": [
    {
     "output_type": "stream",
     "name": "stdout",
     "text": [
      "date, dome_status, dome_direction, telescope_direction, \n('2021-07-03 15:48:44.347587', 'closed', '[30, 40]', '[50, 60]')\n"
     ]
    }
   ],
   "source": [
    "#Equiv to .schema\n",
    "string = ''\n",
    "for item in cur.execute('''PRAGMA table_info(observatory_status);'''):\n",
    "    string += item[1]+', '\n",
    "print(string)\n",
    "for row in cur.execute('SELECT * FROM observatory_status'):\n",
    "        print(row)"
   ]
  },
  {
   "cell_type": "code",
   "execution_count": 5,
   "metadata": {},
   "outputs": [
    {
     "output_type": "execute_result",
     "data": {
      "text/plain": [
       "{'date': None,\n",
       " 'dome_status': None,\n",
       " 'dome_direction': None,\n",
       " 'telescope_direction': None}"
      ]
     },
     "metadata": {},
     "execution_count": 5
    }
   ],
   "source": [
    "from Helper_funcs import sqlite_get_columns\n",
    "import sqlite3\n",
    "connect = sqlite3.connect('Database.db')\n",
    "{key: None for key in sqlite_get_columns(connect, 'observatory_status').strip('()').split(', ')}"
   ]
  },
  {
   "cell_type": "code",
   "execution_count": 59,
   "metadata": {},
   "outputs": [
    {
     "output_type": "stream",
     "name": "stdout",
     "text": [
      "object\ntime_sensitive\nObserver_type\nRarity\ntotal_length\nSubmission_Date\n"
     ]
    }
   ],
   "source": [
    "connect = sqlite3.connect('Database.db')\n",
    "with connect:\n",
    "    for item in connect.execute('''PRAGMA table_info({});'''.format('Schedule')).fetchall():\n",
    "        print(item[1])\n",
    "    for row in connect.execute('SELECT * FROM {}'.format('Schedule')).fetchall():\n",
    "        print(row)"
   ]
  },
  {
   "cell_type": "code",
   "execution_count": null,
   "metadata": {},
   "outputs": [],
   "source": []
  }
 ]
}