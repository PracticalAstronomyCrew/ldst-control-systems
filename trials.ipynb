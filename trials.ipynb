{
 "metadata": {
  "language_info": {
   "codemirror_mode": {
    "name": "ipython",
    "version": 3
   },
   "file_extension": ".py",
   "mimetype": "text/x-python",
   "name": "python",
   "nbconvert_exporter": "python",
   "pygments_lexer": "ipython3",
   "version": "3.8.8"
  },
  "orig_nbformat": 4,
  "kernelspec": {
   "name": "python3",
   "display_name": "Python 3.8.8 64-bit ('base': conda)"
  },
  "interpreter": {
   "hash": "64ad0ea8d629f00d8168fc91b44a5de2d94c414bf842e4bc86698867624ffac1"
  }
 },
 "nbformat": 4,
 "nbformat_minor": 2,
 "cells": [
  {
   "cell_type": "code",
   "execution_count": 2,
   "source": [
    "from astropy.coordinates import SkyCoord, EarthLocation\n",
    "import astropy.coordinates as coord\n",
    "import astropy.units as u\n",
    "from tabulate import tabulate\n",
    "from astropy.time import Time\n",
    "import sqlite3\n",
    "import numpy as np\n",
    "import matplotlib.pyplot as plt\n",
    "import datetime as dt\n",
    "%load_ext autoreload\n",
    "%autoreload 2\n",
    "from Helper_funcs import *\n",
    "from Scheduler import *"
   ],
   "outputs": [
    {
     "output_type": "stream",
     "name": "stdout",
     "text": [
      "wind10toast not installed\n"
     ]
    }
   ],
   "metadata": {}
  },
  {
   "cell_type": "code",
   "execution_count": 1,
   "source": [],
   "outputs": [
    {
     "output_type": "stream",
     "name": "stdout",
     "text": [
      "[1, 2, 3, 4]\n"
     ]
    }
   ],
   "metadata": {}
  },
  {
   "cell_type": "code",
   "execution_count": 8,
   "source": [
    "connect = sqlite3.connect('Database.db')\n",
    "add_randome_data(10)"
   ],
   "outputs": [
    {
     "output_type": "stream",
     "name": "stdout",
     "text": [
      "INSERT INTO Observations(PID, Name, EMail, Phone, Completed_by, Submission_Date, Observer_type, time_sensitive, obsIDs, missing_obsIDs, total_length, logsheet, Obs_days) VALUES('1.0', 'User', 'User@kapteyn.nl', '001123121', '15-07-2021', '17-07-2020', 'OA', 'True', '[1, 2]', '[1, 2]', '300.0', 'None', 'None');\n",
      "INSERT INTO Observations(PID, Name, EMail, Phone, Completed_by, Submission_Date, Observer_type, time_sensitive, obsIDs, missing_obsIDs, total_length, logsheet, Obs_days) VALUES('2.0', 'User', 'User@kapteyn.nl', '001123121', '22-09-2021', '14-01-2021', 'Public', 'True', '[3, 4, 5, 6]', '[3, 4, 5, 6]', '720.0', 'None', 'None');\n",
      "INSERT INTO Observations(PID, Name, EMail, Phone, Completed_by, Submission_Date, Observer_type, time_sensitive, obsIDs, missing_obsIDs, total_length, logsheet, Obs_days) VALUES('3.0', 'User', 'User@kapteyn.nl', '001123121', '12-09-2021', '16-03-2020', 'Outreach/schools', 'True', '[7, 8]', '[7, 8]', '240.0', 'None', 'None');\n",
      "INSERT INTO Observations(PID, Name, EMail, Phone, Completed_by, Submission_Date, Observer_type, time_sensitive, obsIDs, missing_obsIDs, total_length, logsheet, Obs_days) VALUES('4.0', 'User', 'User@kapteyn.nl', '001123121', '11-11-2021', '19-03-2021', 'Outreach/schools', 'True', '[9, 10, 11]', '[9, 10, 11]', '540.0', 'None', 'None');\n",
      "INSERT INTO Observations(PID, Name, EMail, Phone, Completed_by, Submission_Date, Observer_type, time_sensitive, obsIDs, missing_obsIDs, total_length, logsheet, Obs_days) VALUES('5.0', 'User', 'User@kapteyn.nl', '001123121', '21-09-2021', '23-06-2020', 'Student', 'False', '[12]', '[12]', '60.0', 'None', 'None');\n",
      "INSERT INTO Observations(PID, Name, EMail, Phone, Completed_by, Submission_Date, Observer_type, time_sensitive, obsIDs, missing_obsIDs, total_length, logsheet, Obs_days) VALUES('6.0', 'User', 'User@kapteyn.nl', '001123121', '22-11-2021', '05-05-2021', 'Moderator', 'False', '[13, 14]', '[13, 14]', '300.0', 'None', 'None');\n",
      "INSERT INTO Observations(PID, Name, EMail, Phone, Completed_by, Submission_Date, Observer_type, time_sensitive, obsIDs, missing_obsIDs, total_length, logsheet, Obs_days) VALUES('7.0', 'User', 'User@kapteyn.nl', '001123121', '15-10-2021', '01-01-2021', 'Outreach/schools', 'False', '[15, 16, 17]', '[15, 16, 17]', '360.0', 'None', 'None');\n",
      "INSERT INTO Observations(PID, Name, EMail, Phone, Completed_by, Submission_Date, Observer_type, time_sensitive, obsIDs, missing_obsIDs, total_length, logsheet, Obs_days) VALUES('8.0', 'User', 'User@kapteyn.nl', '001123121', '17-10-2021', '02-12-2020', 'Outreach/schools', 'False', '[18, 19]', '[18, 19]', '240.0', 'None', 'None');\n",
      "INSERT INTO Observations(PID, Name, EMail, Phone, Completed_by, Submission_Date, Observer_type, time_sensitive, obsIDs, missing_obsIDs, total_length, logsheet, Obs_days) VALUES('9.0', 'User', 'User@kapteyn.nl', '001123121', '18-12-2021', '03-04-2020', 'Student', 'False', '[20, 21, 22]', '[20, 21, 22]', '360.0', 'None', 'None');\n",
      "INSERT INTO Observations(PID, Name, EMail, Phone, Completed_by, Submission_Date, Observer_type, time_sensitive, obsIDs, missing_obsIDs, total_length, logsheet, Obs_days) VALUES('10.0', 'User', 'User@kapteyn.nl', '001123121', '22-10-2021', '17-12-2020', 'Public', 'True', '[23]', '[23]', '120.0', 'None', 'None');\n",
      "INSERT INTO Schedule(obsID, object, PID, Filter, exposure, binning, airmass, moon, seeing, sky_brightness, Observer_type, time_sensitive, Submission_Date, Completed_by, total_length, Rarity,number_of_exposures) VALUES('1', 'M 41', '1.0', 'B*', '240', '1', '2.935012239741314', '0.1577963786092088', 'None', 'None', '1', 'True', '17-07-2020', '15-07-2021', '300.0', '1', '3');\n",
      "INSERT INTO Schedule(obsID, object, PID, Filter, exposure, binning, airmass, moon, seeing, sky_brightness, Observer_type, time_sensitive, Submission_Date, Completed_by, total_length, Rarity,number_of_exposures) VALUES('2', 'M 1', '1.0', 'H_Alpha', '60', '1', '2.6299136413428927', '0.607169857654781', 'None', 'None', '2', 'True', '17-07-2020', '15-07-2021', '300.0', '1', '8');\n",
      "INSERT INTO Schedule(obsID, object, PID, Filter, exposure, binning, airmass, moon, seeing, sky_brightness, Observer_type, time_sensitive, Submission_Date, Completed_by, total_length, Rarity,number_of_exposures) VALUES('3', 'M 31', '2.0', 'R*', '240', '1', 'None', '0.5652349432444671', 'None', 'None', '3', 'True', '14-01-2021', '22-09-2021', '720.0', '1', '9');\n",
      "INSERT INTO Schedule(obsID, object, PID, Filter, exposure, binning, airmass, moon, seeing, sky_brightness, Observer_type, time_sensitive, Submission_Date, Completed_by, total_length, Rarity,number_of_exposures) VALUES('4', 'M 52', '2.0', 'None', '180', '1', '2.2155511337254308', '0.14712936265936782', 'None', 'None', '4', 'True', '14-01-2021', '22-09-2021', '720.0', '1', '2');\n",
      "INSERT INTO Schedule(obsID, object, PID, Filter, exposure, binning, airmass, moon, seeing, sky_brightness, Observer_type, time_sensitive, Submission_Date, Completed_by, total_length, Rarity,number_of_exposures) VALUES('5', 'M 92', '2.0', 'G*', '240', '1', '1.5754416378569278', '0.5662266460872836', 'None', 'None', '5', 'True', '14-01-2021', '22-09-2021', '720.0', '1', '2');\n",
      "INSERT INTO Schedule(obsID, object, PID, Filter, exposure, binning, airmass, moon, seeing, sky_brightness, Observer_type, time_sensitive, Submission_Date, Completed_by, total_length, Rarity,number_of_exposures) VALUES('6', 'M 36', '2.0', 'R*', '60', '1', 'None', '0.4502379961926759', 'None', 'None', '6', 'True', '14-01-2021', '22-09-2021', '720.0', '1', '2');\n",
      "INSERT INTO Schedule(obsID, object, PID, Filter, exposure, binning, airmass, moon, seeing, sky_brightness, Observer_type, time_sensitive, Submission_Date, Completed_by, total_length, Rarity,number_of_exposures) VALUES('7', 'M 65', '3.0', 'G*', '180', '1', 'None', '0.16442624219276003', 'None', 'None', '7', 'True', '16-03-2020', '12-09-2021', '240.0', '1', '9');\n",
      "INSERT INTO Schedule(obsID, object, PID, Filter, exposure, binning, airmass, moon, seeing, sky_brightness, Observer_type, time_sensitive, Submission_Date, Completed_by, total_length, Rarity,number_of_exposures) VALUES('8', 'M 20', '3.0', 'None', '60', '1', '1.948607949954269', '0.6404561323224776', 'None', 'None', '8', 'True', '16-03-2020', '12-09-2021', '240.0', '1', '9');\n",
      "INSERT INTO Schedule(obsID, object, PID, Filter, exposure, binning, airmass, moon, seeing, sky_brightness, Observer_type, time_sensitive, Submission_Date, Completed_by, total_length, Rarity,number_of_exposures) VALUES('9', 'M 63', '4.0', 'R*', '60', '1', '1.638796104140778', '0.7956064208054887', 'None', 'None', '9', 'True', '19-03-2021', '11-11-2021', '540.0', '1', '1');\n",
      "INSERT INTO Schedule(obsID, object, PID, Filter, exposure, binning, airmass, moon, seeing, sky_brightness, Observer_type, time_sensitive, Submission_Date, Completed_by, total_length, Rarity,number_of_exposures) VALUES('10', 'M 41', '4.0', 'G*', '240', '1', '2.3292986477540034', '0.22610721363137132', 'None', 'None', '10', 'True', '19-03-2021', '11-11-2021', '540.0', '1', '3');\n",
      "INSERT INTO Schedule(obsID, object, PID, Filter, exposure, binning, airmass, moon, seeing, sky_brightness, Observer_type, time_sensitive, Submission_Date, Completed_by, total_length, Rarity,number_of_exposures) VALUES('11', 'M 77', '4.0', 'H_Alpha', '240', '1', 'None', '0.9237888393181048', 'None', 'None', '11', 'True', '19-03-2021', '11-11-2021', '540.0', '1', '5');\n",
      "INSERT INTO Schedule(obsID, object, PID, Filter, exposure, binning, airmass, moon, seeing, sky_brightness, Observer_type, time_sensitive, Submission_Date, Completed_by, total_length, Rarity,number_of_exposures) VALUES('12', 'M 73', '5.0', 'G*', '60', '1', 'None', '0.7165436691108724', 'None', 'None', '12', 'False', '23-06-2020', '21-09-2021', '60.0', '1', '2');\n",
      "INSERT INTO Schedule(obsID, object, PID, Filter, exposure, binning, airmass, moon, seeing, sky_brightness, Observer_type, time_sensitive, Submission_Date, Completed_by, total_length, Rarity,number_of_exposures) VALUES('13', 'M 8', '6.0', 'None', '180', '1', '2.5167779679226827', '0.7376649553358147', 'None', 'None', '13', 'False', '05-05-2021', '22-11-2021', '300.0', '1', '8');\n",
      "INSERT INTO Schedule(obsID, object, PID, Filter, exposure, binning, airmass, moon, seeing, sky_brightness, Observer_type, time_sensitive, Submission_Date, Completed_by, total_length, Rarity,number_of_exposures) VALUES('14', 'M 34', '6.0', 'R*', '120', '1', '1.4184784927123673', '0.6726395521654275', 'None', 'None', '14', 'False', '05-05-2021', '22-11-2021', '300.0', '1', '9');\n",
      "INSERT INTO Schedule(obsID, object, PID, Filter, exposure, binning, airmass, moon, seeing, sky_brightness, Observer_type, time_sensitive, Submission_Date, Completed_by, total_length, Rarity,number_of_exposures) VALUES('15', 'M 66', '7.0', 'None', '120', '1', 'None', '0.06582601167850566', 'None', 'None', '15', 'False', '01-01-2021', '15-10-2021', '360.0', '1', '3');\n",
      "INSERT INTO Schedule(obsID, object, PID, Filter, exposure, binning, airmass, moon, seeing, sky_brightness, Observer_type, time_sensitive, Submission_Date, Completed_by, total_length, Rarity,number_of_exposures) VALUES('16', 'M 6', '7.0', 'R*', '180', '1', 'None', '0.7421427113067497', 'None', 'None', '16', 'False', '01-01-2021', '15-10-2021', '360.0', '1', '2');\n",
      "INSERT INTO Schedule(obsID, object, PID, Filter, exposure, binning, airmass, moon, seeing, sky_brightness, Observer_type, time_sensitive, Submission_Date, Completed_by, total_length, Rarity,number_of_exposures) VALUES('17', 'M 97', '7.0', 'None', '60', '1', '2.334719092597034', '0.8065590621574615', 'None', 'None', '17', 'False', '01-01-2021', '15-10-2021', '360.0', '1', '3');\n",
      "INSERT INTO Schedule(obsID, object, PID, Filter, exposure, binning, airmass, moon, seeing, sky_brightness, Observer_type, time_sensitive, Submission_Date, Completed_by, total_length, Rarity,number_of_exposures) VALUES('18', 'M 91', '8.0', 'None', '120', '1', '1.2636102027571714', '0.8759551161555083', 'None', 'None', '18', 'False', '02-12-2020', '17-10-2021', '240.0', '1', '2');\n",
      "INSERT INTO Schedule(obsID, object, PID, Filter, exposure, binning, airmass, moon, seeing, sky_brightness, Observer_type, time_sensitive, Submission_Date, Completed_by, total_length, Rarity,number_of_exposures) VALUES('19', 'M 37', '8.0', 'G*', '120', '1', 'None', '0.7363774003351857', 'None', 'None', '19', 'False', '02-12-2020', '17-10-2021', '240.0', '1', '4');\n",
      "INSERT INTO Schedule(obsID, object, PID, Filter, exposure, binning, airmass, moon, seeing, sky_brightness, Observer_type, time_sensitive, Submission_Date, Completed_by, total_length, Rarity,number_of_exposures) VALUES('20', 'M 13', '9.0', 'G*', '60', '1', 'None', '0.5552748046557382', 'None', 'None', '20', 'False', '03-04-2020', '18-12-2021', '360.0', '1', '2');\n",
      "INSERT INTO Schedule(obsID, object, PID, Filter, exposure, binning, airmass, moon, seeing, sky_brightness, Observer_type, time_sensitive, Submission_Date, Completed_by, total_length, Rarity,number_of_exposures) VALUES('21', 'M 42', '9.0', 'G*', '180', '1', '1.6065702854465442', '0.2787145753294835', 'None', 'None', '21', 'False', '03-04-2020', '18-12-2021', '360.0', '1', '6');\n",
      "INSERT INTO Schedule(obsID, object, PID, Filter, exposure, binning, airmass, moon, seeing, sky_brightness, Observer_type, time_sensitive, Submission_Date, Completed_by, total_length, Rarity,number_of_exposures) VALUES('22', 'M 10', '9.0', 'B*', '120', '1', 'None', '0.2983734944227906', 'None', 'None', '22', 'False', '03-04-2020', '18-12-2021', '360.0', '1', '2');\n",
      "INSERT INTO Schedule(obsID, object, PID, Filter, exposure, binning, airmass, moon, seeing, sky_brightness, Observer_type, time_sensitive, Submission_Date, Completed_by, total_length, Rarity,number_of_exposures) VALUES('23', 'M 74', '10.0', 'None', '120', '1', '1.4274070832657344', '0.3197069959511535', 'None', 'None', '23', 'True', '17-12-2020', '22-10-2021', '120.0', '1', '4');\n"
     ]
    }
   ],
   "metadata": {}
  },
  {
   "cell_type": "code",
   "execution_count": 3,
   "source": [
    "connect = sqlite3.connect('Database.db')\n",
    "sqlite_get_tables(connect)"
   ],
   "outputs": [
    {
     "output_type": "execute_result",
     "data": {
      "text/plain": [
       "['sorted', 'Observations', 'Schedule']"
      ]
     },
     "metadata": {},
     "execution_count": 3
    }
   ],
   "metadata": {}
  },
  {
   "cell_type": "code",
   "execution_count": 4,
   "source": [
    "cont = sqlite_retrieve_table(connect, 'Observations')\n",
    "for i in cont:\n",
    "    print(i)"
   ],
   "outputs": [
    {
     "output_type": "stream",
     "name": "stdout",
     "text": [
      "{'PID': 1, 'Name': 'User', 'EMail': 'User@kapteyn.nl', 'Phone': '001123121', 'Completed_by': '15-07-2021', 'Submission_Date': '17-07-2020', 'Observer_type': 'OA', 'time_sensitive': 'True', 'obsIDs': ['1', ' '], 'missing_obsIDs': ['1', ' '], 'total_length': 300, 'logsheet': None, 'Obs_days': None}\n",
      "{'PID': 2, 'Name': 'User', 'EMail': 'User@kapteyn.nl', 'Phone': '001123121', 'Completed_by': '22-09-2021', 'Submission_Date': '14-01-2021', 'Observer_type': 'Public', 'time_sensitive': 'True', 'obsIDs': ['3', ' 4', ' 5', ' '], 'missing_obsIDs': ['3', ' 4', ' 5', ' '], 'total_length': 720, 'logsheet': None, 'Obs_days': None}\n",
      "{'PID': 3, 'Name': 'User', 'EMail': 'User@kapteyn.nl', 'Phone': '001123121', 'Completed_by': '12-09-2021', 'Submission_Date': '16-03-2020', 'Observer_type': 'Outreach/schools', 'time_sensitive': 'True', 'obsIDs': ['7', ' '], 'missing_obsIDs': ['7', ' '], 'total_length': 240, 'logsheet': None, 'Obs_days': None}\n",
      "{'PID': 4, 'Name': 'User', 'EMail': 'User@kapteyn.nl', 'Phone': '001123121', 'Completed_by': '11-11-2021', 'Submission_Date': '19-03-2021', 'Observer_type': 'Outreach/schools', 'time_sensitive': 'True', 'obsIDs': ['9', ' 10', ' 1'], 'missing_obsIDs': ['9', ' 10', ' 1'], 'total_length': 540, 'logsheet': None, 'Obs_days': None}\n",
      "{'PID': 5, 'Name': 'User', 'EMail': 'User@kapteyn.nl', 'Phone': '001123121', 'Completed_by': '21-09-2021', 'Submission_Date': '23-06-2020', 'Observer_type': 'Student', 'time_sensitive': 'False', 'obsIDs': ['1'], 'missing_obsIDs': ['1'], 'total_length': 60, 'logsheet': None, 'Obs_days': None}\n",
      "{'PID': 6, 'Name': 'User', 'EMail': 'User@kapteyn.nl', 'Phone': '001123121', 'Completed_by': '22-11-2021', 'Submission_Date': '05-05-2021', 'Observer_type': 'Moderator', 'time_sensitive': 'False', 'obsIDs': ['13', ' 1'], 'missing_obsIDs': ['13', ' 1'], 'total_length': 300, 'logsheet': None, 'Obs_days': None}\n",
      "{'PID': 7, 'Name': 'User', 'EMail': 'User@kapteyn.nl', 'Phone': '001123121', 'Completed_by': '15-10-2021', 'Submission_Date': '01-01-2021', 'Observer_type': 'Outreach/schools', 'time_sensitive': 'False', 'obsIDs': ['15', ' 16', ' 1'], 'missing_obsIDs': ['15', ' 16', ' 1'], 'total_length': 360, 'logsheet': None, 'Obs_days': None}\n",
      "{'PID': 8, 'Name': 'User', 'EMail': 'User@kapteyn.nl', 'Phone': '001123121', 'Completed_by': '17-10-2021', 'Submission_Date': '02-12-2020', 'Observer_type': 'Outreach/schools', 'time_sensitive': 'False', 'obsIDs': ['18', ' 1'], 'missing_obsIDs': ['18', ' 1'], 'total_length': 240, 'logsheet': None, 'Obs_days': None}\n",
      "{'PID': 9, 'Name': 'User', 'EMail': 'User@kapteyn.nl', 'Phone': '001123121', 'Completed_by': '18-12-2021', 'Submission_Date': '03-04-2020', 'Observer_type': 'Student', 'time_sensitive': 'False', 'obsIDs': ['20', ' 21', ' 2'], 'missing_obsIDs': ['20', ' 21', ' 2'], 'total_length': 360, 'logsheet': None, 'Obs_days': None}\n",
      "{'PID': 10, 'Name': 'User', 'EMail': 'User@kapteyn.nl', 'Phone': '001123121', 'Completed_by': '22-10-2021', 'Submission_Date': '17-12-2020', 'Observer_type': 'Public', 'time_sensitive': 'True', 'obsIDs': ['2'], 'missing_obsIDs': ['2'], 'total_length': 120, 'logsheet': None, 'Obs_days': None}\n"
     ]
    }
   ],
   "metadata": {}
  },
  {
   "cell_type": "code",
   "execution_count": null,
   "source": [
    "from astroplan import Constraint\n",
    "from scipy.interpolate import NearestNDInterpolator, interp1d\n",
    "import numpy as np\n",
    "\n",
    "\n",
    "\n"
   ],
   "outputs": [],
   "metadata": {}
  },
  {
   "cell_type": "markdown",
   "source": [
    "# Trials of Scheduler"
   ],
   "metadata": {}
  },
  {
   "cell_type": "code",
   "execution_count": 2,
   "source": [
    "%load_ext autoreload\n",
    "%autoreload 2\n",
    "from Scheduler import Scheduling"
   ],
   "outputs": [
    {
     "output_type": "stream",
     "name": "stdout",
     "text": [
      "wind10toast not installed\n"
     ]
    }
   ],
   "metadata": {}
  },
  {
   "cell_type": "code",
   "execution_count": 9,
   "source": [
    "file_path = r'.'\n",
    "config = ''\n",
    "sel=Scheduling(file_path, config)"
   ],
   "outputs": [
    {
     "output_type": "stream",
     "name": "stderr",
     "text": [
      "Image directory for todays run already existed!\n"
     ]
    }
   ],
   "metadata": {}
  },
  {
   "cell_type": "code",
   "execution_count": 10,
   "source": [
    "sel.schedule"
   ],
   "outputs": [
    {
     "output_type": "execute_result",
     "data": {
      "text/plain": [
       "Schedule containing 0 observing blocks between 2021-08-21 18:51:09.000 and 2021-08-22 04:27:23.000"
      ]
     },
     "metadata": {},
     "execution_count": 10
    }
   ],
   "metadata": {}
  },
  {
   "cell_type": "code",
   "execution_count": 25,
   "source": [
    "import astropy.units as u\n",
    "type(sel.schedule.open_slots[0].duration.to_value(u.second))"
   ],
   "outputs": [
    {
     "output_type": "execute_result",
     "data": {
      "text/plain": [
       "numpy.float64"
      ]
     },
     "metadata": {},
     "execution_count": 25
    }
   ],
   "metadata": {}
  },
  {
   "cell_type": "code",
   "execution_count": 29,
   "source": [
    "os.listdir('.')\n",
    "#(dt.date.today()-dt.timedelta(days=1)).strftime('%Y%m%d')"
   ],
   "outputs": [
    {
     "output_type": "execute_result",
     "data": {
      "text/plain": [
       "['.ipynb_checkpoints',\n",
       " 'README.md',\n",
       " '20210821',\n",
       " 'trials.ipynb',\n",
       " 'Background_Script.py',\n",
       " 'autohotkey_triouts.ahk',\n",
       " 'LICENSE',\n",
       " 'trial_plan.txt',\n",
       " 'Helper_funcs.py',\n",
       " 'openweatherapi.ipynb',\n",
       " 'Database.db',\n",
       " 'database_handling.py',\n",
       " '__pycache__',\n",
       " 'Scheduler.py',\n",
       " 'autohotkey_triouts.exe',\n",
       " '.git',\n",
       " 'config.ini',\n",
       " 'data_transfer.py',\n",
       " 'sky_bright']"
      ]
     },
     "metadata": {},
     "execution_count": 29
    }
   ],
   "metadata": {}
  },
  {
   "cell_type": "code",
   "execution_count": 11,
   "source": [
    "sel.priority_ordered_list"
   ],
   "outputs": [
    {
     "output_type": "execute_result",
     "data": {
      "text/plain": [
       "[{'obsID': 12,\n",
       "  'object': 'M 73',\n",
       "  'PID': 5,\n",
       "  'Filter': 'G*',\n",
       "  'exposure': 60,\n",
       "  'binning': 1,\n",
       "  'airmass': None,\n",
       "  'moon': 0,\n",
       "  'seeing': None,\n",
       "  'sky_brightness': None,\n",
       "  'Observer_type': '12',\n",
       "  'time_sensitive': 'False',\n",
       "  'Submission_Date': '23-06-2020',\n",
       "  'Completed_by': '21-09-2021',\n",
       "  'total_length': 60,\n",
       "  'Rarity': 1,\n",
       "  'number_of_exposures': 2,\n",
       "  'priority': 6.8},\n",
       " {'obsID': 23,\n",
       "  'object': 'M 74',\n",
       "  'PID': 10,\n",
       "  'Filter': 'None',\n",
       "  'exposure': 120,\n",
       "  'binning': 1,\n",
       "  'airmass': 1,\n",
       "  'moon': 0,\n",
       "  'seeing': None,\n",
       "  'sky_brightness': None,\n",
       "  'Observer_type': '23',\n",
       "  'time_sensitive': 'True',\n",
       "  'Submission_Date': '17-12-2020',\n",
       "  'Completed_by': '22-10-2021',\n",
       "  'total_length': 120,\n",
       "  'Rarity': 1,\n",
       "  'number_of_exposures': 4,\n",
       "  'priority': 6.7},\n",
       " {'obsID': 1,\n",
       "  'object': 'M 41',\n",
       "  'PID': 1,\n",
       "  'Filter': 'B*',\n",
       "  'exposure': 240,\n",
       "  'binning': 1,\n",
       "  'airmass': 2,\n",
       "  'moon': 0,\n",
       "  'seeing': None,\n",
       "  'sky_brightness': None,\n",
       "  'Observer_type': '1',\n",
       "  'time_sensitive': 'True',\n",
       "  'Submission_Date': '17-07-2020',\n",
       "  'Completed_by': '15-07-2021',\n",
       "  'total_length': 300,\n",
       "  'Rarity': 1,\n",
       "  'number_of_exposures': 3,\n",
       "  'priority': 6.6},\n",
       " {'obsID': 2,\n",
       "  'object': 'M 1',\n",
       "  'PID': 1,\n",
       "  'Filter': 'H_Alpha',\n",
       "  'exposure': 60,\n",
       "  'binning': 1,\n",
       "  'airmass': 2,\n",
       "  'moon': 0,\n",
       "  'seeing': None,\n",
       "  'sky_brightness': None,\n",
       "  'Observer_type': '2',\n",
       "  'time_sensitive': 'True',\n",
       "  'Submission_Date': '17-07-2020',\n",
       "  'Completed_by': '15-07-2021',\n",
       "  'total_length': 300,\n",
       "  'Rarity': 1,\n",
       "  'number_of_exposures': 8,\n",
       "  'priority': 6.6},\n",
       " {'obsID': 7,\n",
       "  'object': 'M 65',\n",
       "  'PID': 3,\n",
       "  'Filter': 'G*',\n",
       "  'exposure': 180,\n",
       "  'binning': 1,\n",
       "  'airmass': None,\n",
       "  'moon': 0,\n",
       "  'seeing': None,\n",
       "  'sky_brightness': None,\n",
       "  'Observer_type': '7',\n",
       "  'time_sensitive': 'True',\n",
       "  'Submission_Date': '16-03-2020',\n",
       "  'Completed_by': '12-09-2021',\n",
       "  'total_length': 240,\n",
       "  'Rarity': 1,\n",
       "  'number_of_exposures': 9,\n",
       "  'priority': 6.6},\n",
       " {'obsID': 8,\n",
       "  'object': 'M 20',\n",
       "  'PID': 3,\n",
       "  'Filter': 'None',\n",
       "  'exposure': 60,\n",
       "  'binning': 1,\n",
       "  'airmass': 1,\n",
       "  'moon': 0,\n",
       "  'seeing': None,\n",
       "  'sky_brightness': None,\n",
       "  'Observer_type': '8',\n",
       "  'time_sensitive': 'True',\n",
       "  'Submission_Date': '16-03-2020',\n",
       "  'Completed_by': '12-09-2021',\n",
       "  'total_length': 240,\n",
       "  'Rarity': 1,\n",
       "  'number_of_exposures': 9,\n",
       "  'priority': 6.6},\n",
       " {'obsID': 13,\n",
       "  'object': 'M 8',\n",
       "  'PID': 6,\n",
       "  'Filter': 'None',\n",
       "  'exposure': 180,\n",
       "  'binning': 1,\n",
       "  'airmass': 2,\n",
       "  'moon': 0,\n",
       "  'seeing': None,\n",
       "  'sky_brightness': None,\n",
       "  'Observer_type': '13',\n",
       "  'time_sensitive': 'False',\n",
       "  'Submission_Date': '05-05-2021',\n",
       "  'Completed_by': '22-11-2021',\n",
       "  'total_length': 300,\n",
       "  'Rarity': 1,\n",
       "  'number_of_exposures': 8,\n",
       "  'priority': 6.6},\n",
       " {'obsID': 14,\n",
       "  'object': 'M 34',\n",
       "  'PID': 6,\n",
       "  'Filter': 'R*',\n",
       "  'exposure': 120,\n",
       "  'binning': 1,\n",
       "  'airmass': 1,\n",
       "  'moon': 0,\n",
       "  'seeing': None,\n",
       "  'sky_brightness': None,\n",
       "  'Observer_type': '14',\n",
       "  'time_sensitive': 'False',\n",
       "  'Submission_Date': '05-05-2021',\n",
       "  'Completed_by': '22-11-2021',\n",
       "  'total_length': 300,\n",
       "  'Rarity': 1,\n",
       "  'number_of_exposures': 9,\n",
       "  'priority': 6.6},\n",
       " {'obsID': 15,\n",
       "  'object': 'M 66',\n",
       "  'PID': 7,\n",
       "  'Filter': 'None',\n",
       "  'exposure': 120,\n",
       "  'binning': 1,\n",
       "  'airmass': None,\n",
       "  'moon': 0,\n",
       "  'seeing': None,\n",
       "  'sky_brightness': None,\n",
       "  'Observer_type': '15',\n",
       "  'time_sensitive': 'False',\n",
       "  'Submission_Date': '01-01-2021',\n",
       "  'Completed_by': '15-10-2021',\n",
       "  'total_length': 360,\n",
       "  'Rarity': 1,\n",
       "  'number_of_exposures': 3,\n",
       "  'priority': 6.6},\n",
       " {'obsID': 16,\n",
       "  'object': 'M 6',\n",
       "  'PID': 7,\n",
       "  'Filter': 'R*',\n",
       "  'exposure': 180,\n",
       "  'binning': 1,\n",
       "  'airmass': None,\n",
       "  'moon': 0,\n",
       "  'seeing': None,\n",
       "  'sky_brightness': None,\n",
       "  'Observer_type': '16',\n",
       "  'time_sensitive': 'False',\n",
       "  'Submission_Date': '01-01-2021',\n",
       "  'Completed_by': '15-10-2021',\n",
       "  'total_length': 360,\n",
       "  'Rarity': 1,\n",
       "  'number_of_exposures': 2,\n",
       "  'priority': 6.6},\n",
       " {'obsID': 17,\n",
       "  'object': 'M 97',\n",
       "  'PID': 7,\n",
       "  'Filter': 'None',\n",
       "  'exposure': 60,\n",
       "  'binning': 1,\n",
       "  'airmass': 2,\n",
       "  'moon': 0,\n",
       "  'seeing': None,\n",
       "  'sky_brightness': None,\n",
       "  'Observer_type': '17',\n",
       "  'time_sensitive': 'False',\n",
       "  'Submission_Date': '01-01-2021',\n",
       "  'Completed_by': '15-10-2021',\n",
       "  'total_length': 360,\n",
       "  'Rarity': 1,\n",
       "  'number_of_exposures': 3,\n",
       "  'priority': 6.6},\n",
       " {'obsID': 18,\n",
       "  'object': 'M 91',\n",
       "  'PID': 8,\n",
       "  'Filter': 'None',\n",
       "  'exposure': 120,\n",
       "  'binning': 1,\n",
       "  'airmass': 1,\n",
       "  'moon': 0,\n",
       "  'seeing': None,\n",
       "  'sky_brightness': None,\n",
       "  'Observer_type': '18',\n",
       "  'time_sensitive': 'False',\n",
       "  'Submission_Date': '02-12-2020',\n",
       "  'Completed_by': '17-10-2021',\n",
       "  'total_length': 240,\n",
       "  'Rarity': 1,\n",
       "  'number_of_exposures': 2,\n",
       "  'priority': 6.6},\n",
       " {'obsID': 19,\n",
       "  'object': 'M 37',\n",
       "  'PID': 8,\n",
       "  'Filter': 'G*',\n",
       "  'exposure': 120,\n",
       "  'binning': 1,\n",
       "  'airmass': None,\n",
       "  'moon': 0,\n",
       "  'seeing': None,\n",
       "  'sky_brightness': None,\n",
       "  'Observer_type': '19',\n",
       "  'time_sensitive': 'False',\n",
       "  'Submission_Date': '02-12-2020',\n",
       "  'Completed_by': '17-10-2021',\n",
       "  'total_length': 240,\n",
       "  'Rarity': 1,\n",
       "  'number_of_exposures': 4,\n",
       "  'priority': 6.6},\n",
       " {'obsID': 20,\n",
       "  'object': 'M 13',\n",
       "  'PID': 9,\n",
       "  'Filter': 'G*',\n",
       "  'exposure': 60,\n",
       "  'binning': 1,\n",
       "  'airmass': None,\n",
       "  'moon': 0,\n",
       "  'seeing': None,\n",
       "  'sky_brightness': None,\n",
       "  'Observer_type': '20',\n",
       "  'time_sensitive': 'False',\n",
       "  'Submission_Date': '03-04-2020',\n",
       "  'Completed_by': '18-12-2021',\n",
       "  'total_length': 360,\n",
       "  'Rarity': 1,\n",
       "  'number_of_exposures': 2,\n",
       "  'priority': 6.6},\n",
       " {'obsID': 21,\n",
       "  'object': 'M 42',\n",
       "  'PID': 9,\n",
       "  'Filter': 'G*',\n",
       "  'exposure': 180,\n",
       "  'binning': 1,\n",
       "  'airmass': 1,\n",
       "  'moon': 0,\n",
       "  'seeing': None,\n",
       "  'sky_brightness': None,\n",
       "  'Observer_type': '21',\n",
       "  'time_sensitive': 'False',\n",
       "  'Submission_Date': '03-04-2020',\n",
       "  'Completed_by': '18-12-2021',\n",
       "  'total_length': 360,\n",
       "  'Rarity': 1,\n",
       "  'number_of_exposures': 6,\n",
       "  'priority': 6.6},\n",
       " {'obsID': 22,\n",
       "  'object': 'M 10',\n",
       "  'PID': 9,\n",
       "  'Filter': 'B*',\n",
       "  'exposure': 120,\n",
       "  'binning': 1,\n",
       "  'airmass': None,\n",
       "  'moon': 0,\n",
       "  'seeing': None,\n",
       "  'sky_brightness': None,\n",
       "  'Observer_type': '22',\n",
       "  'time_sensitive': 'False',\n",
       "  'Submission_Date': '03-04-2020',\n",
       "  'Completed_by': '18-12-2021',\n",
       "  'total_length': 360,\n",
       "  'Rarity': 1,\n",
       "  'number_of_exposures': 2,\n",
       "  'priority': 6.6},\n",
       " {'obsID': 3,\n",
       "  'object': 'M 31',\n",
       "  'PID': 2,\n",
       "  'Filter': 'R*',\n",
       "  'exposure': 240,\n",
       "  'binning': 1,\n",
       "  'airmass': None,\n",
       "  'moon': 0,\n",
       "  'seeing': None,\n",
       "  'sky_brightness': None,\n",
       "  'Observer_type': '3',\n",
       "  'time_sensitive': 'True',\n",
       "  'Submission_Date': '14-01-2021',\n",
       "  'Completed_by': '22-09-2021',\n",
       "  'total_length': 720,\n",
       "  'Rarity': 1,\n",
       "  'number_of_exposures': 9,\n",
       "  'priority': 6.4},\n",
       " {'obsID': 4,\n",
       "  'object': 'M 52',\n",
       "  'PID': 2,\n",
       "  'Filter': 'None',\n",
       "  'exposure': 180,\n",
       "  'binning': 1,\n",
       "  'airmass': 2,\n",
       "  'moon': 0,\n",
       "  'seeing': None,\n",
       "  'sky_brightness': None,\n",
       "  'Observer_type': '4',\n",
       "  'time_sensitive': 'True',\n",
       "  'Submission_Date': '14-01-2021',\n",
       "  'Completed_by': '22-09-2021',\n",
       "  'total_length': 720,\n",
       "  'Rarity': 1,\n",
       "  'number_of_exposures': 2,\n",
       "  'priority': 6.4},\n",
       " {'obsID': 5,\n",
       "  'object': 'M 92',\n",
       "  'PID': 2,\n",
       "  'Filter': 'G*',\n",
       "  'exposure': 240,\n",
       "  'binning': 1,\n",
       "  'airmass': 1,\n",
       "  'moon': 0,\n",
       "  'seeing': None,\n",
       "  'sky_brightness': None,\n",
       "  'Observer_type': '5',\n",
       "  'time_sensitive': 'True',\n",
       "  'Submission_Date': '14-01-2021',\n",
       "  'Completed_by': '22-09-2021',\n",
       "  'total_length': 720,\n",
       "  'Rarity': 1,\n",
       "  'number_of_exposures': 2,\n",
       "  'priority': 6.4},\n",
       " {'obsID': 6,\n",
       "  'object': 'M 36',\n",
       "  'PID': 2,\n",
       "  'Filter': 'R*',\n",
       "  'exposure': 60,\n",
       "  'binning': 1,\n",
       "  'airmass': None,\n",
       "  'moon': 0,\n",
       "  'seeing': None,\n",
       "  'sky_brightness': None,\n",
       "  'Observer_type': '6',\n",
       "  'time_sensitive': 'True',\n",
       "  'Submission_Date': '14-01-2021',\n",
       "  'Completed_by': '22-09-2021',\n",
       "  'total_length': 720,\n",
       "  'Rarity': 1,\n",
       "  'number_of_exposures': 2,\n",
       "  'priority': 6.4},\n",
       " {'obsID': 9,\n",
       "  'object': 'M 63',\n",
       "  'PID': 4,\n",
       "  'Filter': 'R*',\n",
       "  'exposure': 60,\n",
       "  'binning': 1,\n",
       "  'airmass': 1,\n",
       "  'moon': 0,\n",
       "  'seeing': None,\n",
       "  'sky_brightness': None,\n",
       "  'Observer_type': '9',\n",
       "  'time_sensitive': 'True',\n",
       "  'Submission_Date': '19-03-2021',\n",
       "  'Completed_by': '11-11-2021',\n",
       "  'total_length': 540,\n",
       "  'Rarity': 1,\n",
       "  'number_of_exposures': 1,\n",
       "  'priority': 6.4},\n",
       " {'obsID': 10,\n",
       "  'object': 'M 41',\n",
       "  'PID': 4,\n",
       "  'Filter': 'G*',\n",
       "  'exposure': 240,\n",
       "  'binning': 1,\n",
       "  'airmass': 2,\n",
       "  'moon': 0,\n",
       "  'seeing': None,\n",
       "  'sky_brightness': None,\n",
       "  'Observer_type': '10',\n",
       "  'time_sensitive': 'True',\n",
       "  'Submission_Date': '19-03-2021',\n",
       "  'Completed_by': '11-11-2021',\n",
       "  'total_length': 540,\n",
       "  'Rarity': 1,\n",
       "  'number_of_exposures': 3,\n",
       "  'priority': 6.4},\n",
       " {'obsID': 11,\n",
       "  'object': 'M 77',\n",
       "  'PID': 4,\n",
       "  'Filter': 'H_Alpha',\n",
       "  'exposure': 240,\n",
       "  'binning': 1,\n",
       "  'airmass': None,\n",
       "  'moon': 0,\n",
       "  'seeing': None,\n",
       "  'sky_brightness': None,\n",
       "  'Observer_type': '11',\n",
       "  'time_sensitive': 'True',\n",
       "  'Submission_Date': '19-03-2021',\n",
       "  'Completed_by': '11-11-2021',\n",
       "  'total_length': 540,\n",
       "  'Rarity': 1,\n",
       "  'number_of_exposures': 5,\n",
       "  'priority': 6.4}]"
      ]
     },
     "metadata": {},
     "execution_count": 11
    }
   ],
   "metadata": {}
  },
  {
   "cell_type": "markdown",
   "source": [
    "# Seeing"
   ],
   "metadata": {}
  },
  {
   "cell_type": "code",
   "execution_count": 25,
   "source": [
    "import requests\n",
    "import pandas as pd\n",
    "\n",
    "url = 'https://www.meteoblue.com/en/weather/outdoorsports/seeing/lauwersoog_netherlands_2751849'\n",
    "\n",
    "html = requests.get(url).content\n"
   ],
   "outputs": [],
   "metadata": {}
  },
  {
   "cell_type": "code",
   "execution_count": 26,
   "source": [
    "html=html.split(b'\\n')"
   ],
   "outputs": [],
   "metadata": {}
  },
  {
   "cell_type": "code",
   "execution_count": 27,
   "source": [
    "for i in range(len(html)):\n",
    "    if b'<table class=\"table-seeing\">' in html[i]:\n",
    "        break\n",
    "for j in range(i,len(html)):\n",
    "    if b'</tbody>' in html[j]:\n",
    "        break\n",
    "html = html[i:j]"
   ],
   "outputs": [],
   "metadata": {}
  },
  {
   "cell_type": "code",
   "execution_count": 5,
   "source": [
    "for i in range(len(html)):\n",
    "    if b'/thead' in html[i]:\n",
    "        break\n",
    "headers = html[:i]"
   ],
   "outputs": [],
   "metadata": {}
  },
  {
   "cell_type": "code",
   "execution_count": 6,
   "source": [
    "data = html[i:]"
   ],
   "outputs": [],
   "metadata": {}
  },
  {
   "cell_type": "code",
   "execution_count": 13,
   "source": [
    "rows = []\n",
    "cond = False\n",
    "ls = []\n",
    "for i in range(len(data)):\n",
    "    if b'<tr class=\"hour-row night\"' in data[i]:\n",
    "        cond = True\n",
    "    elif b'</tr>' in data[i]:\n",
    "        cond = False\n",
    "        rows.append(ls)\n",
    "        ls = []\n",
    "    elif cond:\n",
    "        ls.append(data[i])\n"
   ],
   "outputs": [],
   "metadata": {}
  },
  {
   "cell_type": "code",
   "execution_count": 21,
   "source": [
    "arr = []\n",
    "for i in range(len(rows[1])):\n",
    "    if b'</td>' in rows[1][i]:\n",
    "        val =rows[1][i].split(b'<')[0].split(b'>')\n",
    "        if len(val) >"
   ],
   "outputs": [],
   "metadata": {}
  },
  {
   "cell_type": "code",
   "execution_count": 22,
   "source": [
    "arr"
   ],
   "outputs": [
    {
     "output_type": "execute_result",
     "data": {
      "text/plain": [
       "[[b'                    ', b'2'],\n",
       " [b'                        0                    '],\n",
       " [b'                        0                    '],\n",
       " [b'                        0                    '],\n",
       " [b'                                        '],\n",
       " [b'                        4                    '],\n",
       " [b'                        3                    '],\n",
       " [b'                    '],\n",
       " [b'                        02.1                    '],\n",
       " [b'                        03.8                    '],\n",
       " [b'                    '],\n",
       " [b'                        62&thinsp;\\xc2\\xb0F                    '],\n",
       " [b'                    '],\n",
       " [b'                                    ']]"
      ]
     },
     "metadata": {},
     "execution_count": 22
    }
   ],
   "metadata": {}
  },
  {
   "cell_type": "code",
   "execution_count": null,
   "source": [],
   "outputs": [],
   "metadata": {}
  }
 ]
}