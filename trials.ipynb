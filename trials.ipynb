{
 "metadata": {
  "language_info": {
   "codemirror_mode": {
    "name": "ipython",
    "version": 3
   },
   "file_extension": ".py",
   "mimetype": "text/x-python",
   "name": "python",
   "nbconvert_exporter": "python",
   "pygments_lexer": "ipython3",
   "version": "3.8.8"
  },
  "orig_nbformat": 4,
  "kernelspec": {
   "name": "python3",
   "display_name": "Python 3.8.8 64-bit ('base': conda)"
  },
  "interpreter": {
   "hash": "64ad0ea8d629f00d8168fc91b44a5de2d94c414bf842e4bc86698867624ffac1"
  }
 },
 "nbformat": 4,
 "nbformat_minor": 2,
 "cells": [
  {
   "cell_type": "code",
   "execution_count": 26,
   "metadata": {},
   "outputs": [],
   "source": [
    "from astropy.coordinates import EarthLocation, SkyCoord, get_sun, AltAz \n",
    "from astropy import time\n",
    "m1 = SkyCoord.from_name('M1')\n",
    "\n",
    "#dir() to see attributes"
   ]
  },
  {
   "cell_type": "code",
   "execution_count": 27,
   "metadata": {},
   "outputs": [
    {
     "output_type": "stream",
     "name": "stdout",
     "text": [
      "<ICRS Coordinate: (ra, dec) in deg\n    (83.63308333, 22.0145)>\n"
     ]
    }
   ],
   "source": [
    "print(m1.frame)"
   ]
  },
  {
   "cell_type": "code",
   "execution_count": 28,
   "metadata": {},
   "outputs": [],
   "source": [
    "sun = get_sun(time.Time.now()).transform_to(AltAz(location=EarthLocation(53.3845258962902, 6.23475766593151)))"
   ]
  },
  {
   "cell_type": "code",
   "execution_count": 31,
   "metadata": {},
   "outputs": [
    {
     "output_type": "stream",
     "name": "stdout",
     "text": [
      "<SkyCoord (AltAz: obstime=2021-07-03 11:51:08.187418, location=(3781835.25203023, 5089373.33486723, 688071.22792422) m, pressure=0.0 hPa, temperature=0.0 deg_C, relative_humidity=0.0, obswl=1.0 micron): (az, alt, distance) in (deg, deg, m)\n    (294.56037569, 39.02391664, 1.52094054e+11)>\n"
     ]
    }
   ],
   "source": [
    "print(sun)"
   ]
  },
  {
   "cell_type": "code",
   "execution_count": 39,
   "metadata": {},
   "outputs": [
    {
     "output_type": "execute_result",
     "data": {
      "text/plain": [
       "39.023916642671054"
      ]
     },
     "metadata": {},
     "execution_count": 39
    }
   ],
   "source": [
    "sun.alt.deg"
   ]
  },
  {
   "cell_type": "code",
   "execution_count": null,
   "metadata": {},
   "outputs": [],
   "source": []
  }
 ]
}