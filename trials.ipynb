{
 "metadata": {
  "language_info": {
   "codemirror_mode": {
    "name": "ipython",
    "version": 3
   },
   "file_extension": ".py",
   "mimetype": "text/x-python",
   "name": "python",
   "nbconvert_exporter": "python",
   "pygments_lexer": "ipython3",
   "version": "3.8.8"
  },
  "orig_nbformat": 4,
  "kernelspec": {
   "name": "python3",
   "display_name": "Python 3.8.8 64-bit ('base': conda)"
  },
  "interpreter": {
   "hash": "64ad0ea8d629f00d8168fc91b44a5de2d94c414bf842e4bc86698867624ffac1"
  }
 },
 "nbformat": 4,
 "nbformat_minor": 2,
 "cells": [
  {
   "cell_type": "code",
   "execution_count": null,
   "source": [
    "from astropy.coordinates import SkyCoord, EarthLocation\n",
    "import astropy.coordinates as coord\n",
    "import astropy.units as u\n",
    "from tabulate import tabulate\n",
    "from astropy.time import Time\n",
    "import sqlite3\n",
    "import numpy as np\n",
    "import matplotlib.pyplot as plt\n",
    "import datetime as dt\n",
    "%load_ext autoreload\n",
    "%autoreload 2\n",
    "from Helper_funcs import *\n",
    "from Scheduler import *"
   ],
   "outputs": [],
   "metadata": {}
  },
  {
   "cell_type": "code",
   "execution_count": null,
   "source": [
    "connect = sqlite3.connect('Database.db')\n",
    "add_randome_data(10)"
   ],
   "outputs": [],
   "metadata": {}
  },
  {
   "cell_type": "code",
   "execution_count": null,
   "source": [
    "connect = sqlite3.connect('Database.db')\n",
    "cont = sqlite_retrieve_table(connect, 'Schedule')\n",
    "for i in cont:\n",
    "    print(i)"
   ],
   "outputs": [],
   "metadata": {}
  },
  {
   "cell_type": "code",
   "execution_count": null,
   "source": [
    "cont = sqlite_retrieve_table(connect, 'Observations')\n",
    "for i in cont:\n",
    "    print(i)"
   ],
   "outputs": [],
   "metadata": {}
  },
  {
   "cell_type": "code",
   "execution_count": null,
   "source": [
    "from astroplan import Constraint\n",
    "from scipy.interpolate import NearestNDInterpolator, interp1d\n",
    "import numpy as np\n",
    "\n",
    "class SeeingConstraint(Constraint): #TODO: Define this once figure out where we get seeing from\n",
    "    \"\"\"\n",
    "    Constrains Seeing. Maybe use: https://www.meteoblue.com/en/weather/outdoorsports/seeing/groningen_netherlands_2755251\n",
    "\n",
    "    Parameters\n",
    "    ----------\n",
    "    max : `~astropy.units.Quantity` or `None`\n",
    "        Maximum altitude of the target (inclusive). `None` indicates no limit.\n",
    "    boolean_constraint : bool\n",
    "        If True, the constraint is treated as a boolean (True for within the\n",
    "        limits and False for outside).  If False, the constraint returns a\n",
    "        float on [0, 1], where 0 is the min altitude and 1 is the max.\n",
    "    \"\"\"\n",
    "\n",
    "    def __init__(self, min=None, boolean_constraint=True):\n",
    "        if max is None:\n",
    "            self.max = 90*u.deg\n",
    "        else:\n",
    "            self.max = max\n",
    "\n",
    "        self.boolean_constraint = boolean_constraint\n",
    "\n",
    "    def compute_constraint(self, times, observer, targets):\n",
    "        cached_altaz = _get_altaz(times, observer, targets)\n",
    "        alt = cached_altaz['altaz'].alt\n",
    "        if self.boolean_constraint:\n",
    "            lowermask = self.min <= alt\n",
    "            uppermask = alt <= self.max\n",
    "            return lowermask & uppermask\n",
    "        else:\n",
    "            return max_best_rescale(alt, self.min, self.max)\n",
    "\n",
    "\n"
   ],
   "outputs": [],
   "metadata": {}
  },
  {
   "cell_type": "markdown",
   "source": [
    "# Trials of Scheduler"
   ],
   "metadata": {}
  },
  {
   "cell_type": "code",
   "execution_count": 1,
   "source": [
    "from Scheduler import Scheduling\n",
    "file_path = r'.'\n",
    "config = ''\n",
    "sel=Scheduling(file_path, config)"
   ],
   "outputs": [
    {
     "output_type": "stream",
     "name": "stdout",
     "text": [
      "wind10toast not installed\n",
      "{'filter': 'None', 'obsID': 21}\n",
      "{'filter': 'None', 'obsID': 23}\n",
      "{'filter': 'H_Alpha', 'obsID': 25}\n",
      "{'filter': 'H_Alpha', 'obsID': 5}\n"
     ]
    }
   ],
   "metadata": {}
  },
  {
   "cell_type": "code",
   "execution_count": 3,
   "source": [
    "('obsID' in sel.scheduled_blocks[0].configuration.keys())#.configuration\n"
   ],
   "outputs": [
    {
     "output_type": "execute_result",
     "data": {
      "text/plain": [
       "dict_keys(['filter', 'obsID'])"
      ]
     },
     "metadata": {},
     "execution_count": 3
    }
   ],
   "metadata": {}
  },
  {
   "cell_type": "markdown",
   "source": [
    "# Narrow down datasets for interpolation function\n",
    "\n"
   ],
   "metadata": {}
  },
  {
   "cell_type": "code",
   "execution_count": null,
   "source": [
    "from Helper_funcs import load_all_csv\n",
    "data = load_all_csv('./sky_bright')\n",
    "csv_data = [[],[],[],[],[],[],[],[]]\n",
    "for key in data:\n",
    "    temp = data[key]\n",
    "    temp[-1] = [float(i) for i in temp[-1]]\n",
    "    for j in range(len(temp[-1])): #\n",
    "        if temp[-1][j] < 1:\n",
    "            break #J will keep the index of the last point\n",
    "    for k in range(j+500,len(temp[-1])): #Starting point with conservative offset of 500 TODO: Find out how many datapoints are actually taken\n",
    "        if temp[-1][k] > 1:\n",
    "            break\n",
    "    #We now have our start and stop indices\n",
    "    #We will now append to a list to save the clipped data\n",
    "    clipped = np.array(temp)[::,j:k]\n",
    "    csv_data[0] += clipped[0].tolist() #Save datetime object as well\n",
    "    csv_data[1] += [(i.date().days-i.date().replace(day=1,month=1)).days for i in clipped[0]]\n",
    "    csv_data[2] += [int((i-i.replace(hour=0, minute=0,second=0)).total_seconds()/60) for i in clipped[0]]\n",
    "    for i in range(1,len(csv_data)): #Skip dattime object \n",
    "        csv_data[i+1] += clipped[i]"
   ],
   "outputs": [],
   "metadata": {}
  },
  {
   "cell_type": "code",
   "execution_count": null,
   "source": [
    "print(csv_data)"
   ],
   "outputs": [],
   "metadata": {}
  },
  {
   "cell_type": "code",
   "execution_count": null,
   "source": [],
   "outputs": [],
   "metadata": {}
  }
 ]
}